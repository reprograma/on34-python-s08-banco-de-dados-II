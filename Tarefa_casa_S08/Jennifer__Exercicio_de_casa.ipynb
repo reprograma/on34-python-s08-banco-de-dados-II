{
  "nbformat": 4,
  "nbformat_minor": 0,
  "metadata": {
    "colab": {
      "provenance": []
    },
    "kernelspec": {
      "name": "python3",
      "display_name": "Python 3"
    },
    "language_info": {
      "name": "python"
    }
  },
  "cells": [
    {
      "cell_type": "markdown",
      "source": [
        "# ON34 Python S08 Banco de dados II - Exercicio de casa\n",
        "\n",
        "Esse documento tem como objetivo descrecer exercícios de uso de consultas de banco de dados.\n",
        "Para tanto, será usada a Biblioteca SQLite para criarmos e manipularmos tabelas, suas relações e seus dados.\n",
        "\n",
        "Neste [link](https://colab.research.google.com/drive/1iXh_l1R66L1B30lIj-oLATCwCLyWdF0u?usp=sharing) é possivel encontrar uma explicação completa de como a biblioteca funciona e suas principais features.\n",
        "\n",
        "Para documentações oficiais use esse link da [biblioteca Python do SQLite](https://docs.python.org/3/library/sqlite3.html) e esse das [funções SQLite](https://www.sqlitetutorial.net/).\n",
        "\n",
        "Sendo assim, a seguir vou passar mais para um caso de uso dessa aula, criar uma visão prática de uso de banco de dados.\n"
      ],
      "metadata": {
        "id": "TM2676gVSOD6"
      }
    },
    {
      "cell_type": "markdown",
      "source": [
        "# Visualizando o banco\n",
        "\n",
        "Nesse ponto, o objetivo principal é o entendimento do Banco de dados usado para os exercicos dessa aula.\n",
        "\n",
        "Sendo assim, o caso que servirá de plano de fundo para esse exercicio é o da Companhia Aerea SAMBA em um arquivo chamado \"dados_de_voo.db\", que possui as seguintes tabelas já populadas:\n",
        "\n",
        "![Banco de dados](https://drive.google.com/uc?export=view&id=1JUVNzdDnOEpS9UracGfdZcQKBllAANfS)\n",
        "\n",
        "\n",
        "\n"
      ],
      "metadata": {
        "id": "VsomC6JmS2xj"
      }
    },
    {
      "cell_type": "markdown",
      "source": [
        "##Inserindo dados e populando"
      ],
      "metadata": {
        "id": "iTVGF1OmshwX"
      }
    },
    {
      "cell_type": "code",
      "source": [
        "# Importar a biblioteca\n",
        "import sqlite3\n",
        "\n",
        "#Criar uma conexão com um banco de dados (no nosso caso, não temos um arquivo de banco de dados pré feito, então decidiu-se inicializar um denominado dados_de_voo.db)\n",
        "conn = sqlite3.connect(\"dados_de_voo.db\")\n",
        "\n",
        "# Criar um cursor no banco que permitirá o uso de comandos no formato SQL\n",
        "cur  = conn.cursor()"
      ],
      "metadata": {
        "id": "E2gUyilrshwX"
      },
      "execution_count": null,
      "outputs": []
    },
    {
      "cell_type": "code",
      "source": [
        "# Criando a tabela registro_passageiros\n",
        "cur.execute(\"\"\"\n",
        "CREATE TABLE registro_passageiros (\n",
        "  id_passageiro TEXT NOT NULL PRIMARY KEY,\n",
        "  st_nome TEXT NOT NULL,\n",
        "  st_categoria TEXT NOT NULL,\n",
        "  st_sexo TEXT,\n",
        "  dt_nascimento TEXT NOT NULL,\n",
        "  st_nacionalidade TEXT NOT NULL,\n",
        "  st_estado_civil TEXT NOT NULL\n",
        ")\n",
        "\"\"\")\n",
        "\n",
        "# Criando a tabela restricao_alimentar\n",
        "cur.execute(\"\"\"\n",
        "CREATE TABLE restricao_alimentar (\n",
        "  id_passageiro TEXT NOT NULL,\n",
        "  st_alergia_alimentar TEXT,\n",
        "  st_restricao_alimentar TEXT,\n",
        "  FOREIGN KEY (id_passageiro)\n",
        "      REFERENCES registro_passageiros (id_passageiro)\n",
        "         ON DELETE CASCADE\n",
        "         ON UPDATE NO ACTION\n",
        ")\n",
        "\"\"\")\n",
        "\n",
        "# Criando a tabela registro_refeicoes\n",
        "cur.execute(\"\"\"\n",
        "CREATE TABLE registro_refeicoes(\n",
        "  id_refeicao TEXT NOT NULL PRIMARY KEY,\n",
        "  st_nome TEXT NOT NULL,\n",
        "  float_custo REAL NOT NULL\n",
        ")\n",
        "\"\"\")\n",
        "\n",
        "# Criando a tabela registro_alergicos\n",
        "cur.execute(\"\"\"\n",
        "CREATE TABLE registro_alergicos(\n",
        "  id_refeicao TEXT NOT NULL,\n",
        "  st_alergico TEXT NOT NULL,\n",
        "  FOREIGN KEY (id_refeicao)\n",
        "      REFERENCES registro_refeicoes (id_refeicao)\n",
        "         ON DELETE CASCADE\n",
        "         ON UPDATE NO ACTION\n",
        ")\n",
        "\"\"\")\n",
        "\n",
        "# Criando a tabela registro_voo\n",
        "cur.execute(\"\"\"\n",
        "CREATE TABLE registro_voo(\n",
        "  id_voo TEXT NOT NULL PRIMARY KEY,\n",
        "  st_origem TEXT NOT NULL,\n",
        "  st_destino TEXT NOT NULL,\n",
        "  dt_voo TEXT NOT NULL\n",
        ")\n",
        "\"\"\")"
      ],
      "metadata": {
        "colab": {
          "base_uri": "https://localhost:8080/"
        },
        "outputId": "2ed38b58-5c04-450f-fd51-738c2eb0d48e",
        "id": "qlGqQD1mshwY"
      },
      "execution_count": null,
      "outputs": [
        {
          "output_type": "execute_result",
          "data": {
            "text/plain": [
              "<sqlite3.Cursor at 0x7d2174154840>"
            ]
          },
          "metadata": {},
          "execution_count": 22
        }
      ]
    },
    {
      "cell_type": "code",
      "source": [
        "# Criando a tabela registro_passageiros (id_passageiro, st_nome, st_categoria, st_sexo, dt_nascimento, st_nacionalidade, st_estado_civil)\n",
        "cur.execute(\"\"\"\n",
        "INSERT INTO registro_passageiros VALUES\n",
        "  ('p1','Ana Antunes','Gold','F','14/06/1999','Brasileiro', 'solteiro(a)'),\n",
        "  ('p2','Mario Marques','Silver','M','06/11/1980','Brasileiro', 'solteiro(a)'),\n",
        "  ('p3','Maria Marques','Silver','F','16/10/1976','Brasileiro', 'divorciado(a)'),\n",
        "  ('p4','Pietro Palmeira','Silver','M','26/10/1988','Português', 'casado(a)'),\n",
        "  ('p5','Pamela Pluma Palmeira','Silver','F','26/10/1988','Brasileiro', 'Casado(a)'),\n",
        "  ('p6','Saulo Sauro','Bronze','M','23/11/1998','Brasileiro', 'solteiro(a)'),\n",
        "  ('p7','Volverine Valadares','Gold','M','04/04/2006','Brasileiro', 'solteiro(a)'),\n",
        "  ('p8','Waldisney Washington','Gold','M','02/05/2000','Brasileiro', 'divorciado(a)'),\n",
        "  ('p9','Daniel Dimes','Silver','M','17/09/1995','Brasileiro', 'solteiro(a)'),\n",
        "  ('p10','Daniela Dimes','Silver','F','17/09/2023','Brasileiro', 'solteiro(a)')\n",
        "\n",
        "\n",
        "\"\"\")\n",
        "# Comitar as inserções\n",
        "conn.commit()\n",
        "\n",
        "#Verificar dados na tabela\n",
        "res = cur.execute(\"SELECT * FROM registro_passageiros\")\n",
        "res.fetchall()"
      ],
      "metadata": {
        "colab": {
          "base_uri": "https://localhost:8080/"
        },
        "outputId": "81db2b4d-0614-422b-f241-83080b7b5794",
        "id": "_XXVrohlshwY"
      },
      "execution_count": null,
      "outputs": [
        {
          "output_type": "execute_result",
          "data": {
            "text/plain": [
              "[('p1', 'Ana Antunes', 'Gold', 'F', '14/06/1999', 'Brasileiro', 'solteiro(a)'),\n",
              " ('p2',\n",
              "  'Mario Marques',\n",
              "  'Silver',\n",
              "  'M',\n",
              "  '06/11/1980',\n",
              "  'Brasileiro',\n",
              "  'solteiro(a)'),\n",
              " ('p3',\n",
              "  'Maria Marques',\n",
              "  'Silver',\n",
              "  'F',\n",
              "  '16/10/1976',\n",
              "  'Brasileiro',\n",
              "  'divorciado(a)'),\n",
              " ('p4',\n",
              "  'Pietro Palmeira',\n",
              "  'Silver',\n",
              "  'M',\n",
              "  '26/10/1988',\n",
              "  'Português',\n",
              "  'casado(a)'),\n",
              " ('p5',\n",
              "  'Pamela Pluma Palmeira',\n",
              "  'Silver',\n",
              "  'F',\n",
              "  '26/10/1988',\n",
              "  'Brasileiro',\n",
              "  'Casado(a)'),\n",
              " ('p6',\n",
              "  'Saulo Sauro',\n",
              "  'Bronze',\n",
              "  'M',\n",
              "  '23/11/1998',\n",
              "  'Brasileiro',\n",
              "  'solteiro(a)'),\n",
              " ('p7',\n",
              "  'Volverine Valadares',\n",
              "  'Gold',\n",
              "  'M',\n",
              "  '04/04/2006',\n",
              "  'Brasileiro',\n",
              "  'solteiro(a)'),\n",
              " ('p8',\n",
              "  'Waldisney Washington',\n",
              "  'Gold',\n",
              "  'M',\n",
              "  '02/05/2000',\n",
              "  'Brasileiro',\n",
              "  'divorciado(a)'),\n",
              " ('p9',\n",
              "  'Daniel Dimes',\n",
              "  'Silver',\n",
              "  'M',\n",
              "  '17/09/1995',\n",
              "  'Brasileiro',\n",
              "  'solteiro(a)'),\n",
              " ('p10',\n",
              "  'Daniela Dimes',\n",
              "  'Silver',\n",
              "  'F',\n",
              "  '17/09/2023',\n",
              "  'Brasileiro',\n",
              "  'solteiro(a)')]"
            ]
          },
          "metadata": {},
          "execution_count": 23
        }
      ]
    },
    {
      "cell_type": "code",
      "source": [
        "# Criando a tabela restricao_alimentar (id_passageiro, st_alergia_alimentar, st_restricao_alimentar)\n",
        "cur.execute(\"\"\"\n",
        "INSERT INTO restricao_alimentar (id_passageiro, st_alergia_alimentar) VALUES\n",
        "  ('p2','Lactose'),\n",
        "  ('p3','Lactose'),\n",
        "  ('p4','Frutos do Mar'),\n",
        "  ('p4','Castanhas'),\n",
        "  ('p7','Glutem'),\n",
        "  ('p7','Frutos do Mar')\n",
        "\"\"\")\n",
        "\n",
        "cur.execute(\"\"\"\n",
        "INSERT INTO restricao_alimentar (id_passageiro, st_restricao_alimentar) VALUES\n",
        "  ('p1','Vegano'),\n",
        "  ('p8','Vegetariano')\n",
        "\"\"\")\n",
        "\n",
        "cur.execute(\"\"\"\n",
        "INSERT INTO restricao_alimentar VALUES\n",
        "  ('p6','Castanhas','Vegetariano')\n",
        "\"\"\")\n",
        "\n",
        "# Comitar as inserções\n",
        "conn.commit()\n",
        "\n",
        "#Verificar dados na tabela\n",
        "res = cur.execute(\"SELECT * FROM restricao_alimentar\")\n",
        "res.fetchall()"
      ],
      "metadata": {
        "colab": {
          "base_uri": "https://localhost:8080/"
        },
        "outputId": "7f870e91-23fe-4e4b-bffe-9abb082053f8",
        "id": "ljd6RSEnshwZ"
      },
      "execution_count": null,
      "outputs": [
        {
          "output_type": "execute_result",
          "data": {
            "text/plain": [
              "[('p2', 'Lactose', None),\n",
              " ('p3', 'Lactose', None),\n",
              " ('p4', 'Frutos do Mar', None),\n",
              " ('p4', 'Castanhas', None),\n",
              " ('p7', 'Glutem', None),\n",
              " ('p7', 'Frutos do Mar', None),\n",
              " ('p1', None, 'Vegano'),\n",
              " ('p8', None, 'Vegetariano'),\n",
              " ('p6', 'Castanhas', 'Vegetariano')]"
            ]
          },
          "metadata": {},
          "execution_count": 24
        }
      ]
    },
    {
      "cell_type": "code",
      "source": [
        "# Criando a tabela registro_refeicoes (id_refeicao, st_nome, float_custo)\n",
        "cur.execute(\"\"\"\n",
        "INSERT INTO registro_refeicoes VALUES\n",
        "  ('r1', 'Frango com Legumes', 20),\n",
        "  ('r2', 'Picadinho de carne', 25),\n",
        "  ('r3', 'Salada com castanhas', 15),\n",
        "  ('r4', 'Risoto de Camarão', 30),\n",
        "  ('r5', 'Hamburguer Combo', 35),\n",
        "  ('r6', 'Hamburguer Vegano Combo', 30)\n",
        "\"\"\")\n",
        "# Comitar as inserções\n",
        "conn.commit()\n",
        "\n",
        "#Verificar dados na tabela\n",
        "res = cur.execute(\"SELECT * FROM registro_refeicoes\")\n",
        "res.fetchall()"
      ],
      "metadata": {
        "colab": {
          "base_uri": "https://localhost:8080/"
        },
        "outputId": "517eefed-aa85-45cf-ca9d-4b276f68a66a",
        "id": "MuGv7y_OshwZ"
      },
      "execution_count": null,
      "outputs": [
        {
          "output_type": "execute_result",
          "data": {
            "text/plain": [
              "[('r1', 'Frango com Legumes', 20.0),\n",
              " ('r2', 'Picadinho de carne', 25.0),\n",
              " ('r3', 'Salada com castanhas', 15.0),\n",
              " ('r4', 'Risoto de Camarão', 30.0),\n",
              " ('r5', 'Hamburguer Combo', 35.0),\n",
              " ('r6', 'Hamburguer Vegano Combo', 30.0)]"
            ]
          },
          "metadata": {},
          "execution_count": 25
        }
      ]
    },
    {
      "cell_type": "code",
      "source": [
        "# Criando a tabela registro_alergicos (id_refeicao, st_alergico)\n",
        "cur.execute(\"\"\"\n",
        "INSERT INTO registro_alergicos VALUES\n",
        "  ('r1', \"Vegetariano\"),\n",
        "  ('r1', \"Vegano\"),\n",
        "  ('r1', \"Glutem\"),\n",
        "  ('r2', \"Vegetariano\"),\n",
        "  ('r2', \"Vegano\"),\n",
        "  ('r2', \"Glutem\"),\n",
        "  ('r3', \"Castanhas\"),\n",
        "  ('r4', \"Lactose\"),\n",
        "  ('r4', \"Frutos do Mar\"),\n",
        "  ('r4', \"Vegetariano\"),\n",
        "  ('r4', \"Vegano\"),\n",
        "  ('r4', \"Glutem\"),\n",
        "  ('r5', \"Vegetariano\"),\n",
        "  ('r5', \"Vegano\"),\n",
        "  ('r5', \"Glutem\"),\n",
        "  ('r5', \"Lactose\")\n",
        "\"\"\")\n",
        "# Comitar as inserções\n",
        "conn.commit()\n",
        "\n",
        "#Verificar dados na tabela\n",
        "res = cur.execute(\"SELECT * FROM registro_alergicos\")\n",
        "res.fetchall()"
      ],
      "metadata": {
        "colab": {
          "base_uri": "https://localhost:8080/"
        },
        "outputId": "a80b9054-e192-42c3-e8e4-a52c7b6f0d04",
        "id": "85jfu1VXshwZ"
      },
      "execution_count": null,
      "outputs": [
        {
          "output_type": "execute_result",
          "data": {
            "text/plain": [
              "[('r1', 'Vegetariano'),\n",
              " ('r1', 'Vegano'),\n",
              " ('r1', 'Glutem'),\n",
              " ('r2', 'Vegetariano'),\n",
              " ('r2', 'Vegano'),\n",
              " ('r2', 'Glutem'),\n",
              " ('r3', 'Castanhas'),\n",
              " ('r4', 'Lactose'),\n",
              " ('r4', 'Frutos do Mar'),\n",
              " ('r4', 'Vegetariano'),\n",
              " ('r4', 'Vegano'),\n",
              " ('r4', 'Glutem'),\n",
              " ('r5', 'Vegetariano'),\n",
              " ('r5', 'Vegano'),\n",
              " ('r5', 'Glutem'),\n",
              " ('r5', 'Lactose')]"
            ]
          },
          "metadata": {},
          "execution_count": 26
        }
      ]
    },
    {
      "cell_type": "code",
      "source": [
        "# Criando a tabela registro_voo (id_voo,  st_origem, st_destino, dt_voo)\n",
        "cur.execute(\"\"\"\n",
        "INSERT INTO registro_voo VALUES\n",
        "  ('v1', \"GRU\", \"REC\", \"01/02/2024\"),\n",
        "  ('v2', \"VCP\", \"SDU\", \"15/03/2024\"),\n",
        "  ('v3', \"REC\", \"GRU\", \"20/06/2024\")\n",
        "\"\"\")\n",
        "# Comitar as inserções\n",
        "conn.commit()\n",
        "\n",
        "#Verificar dados na tabela\n",
        "res = cur.execute(\"SELECT * FROM registro_voo\")\n",
        "res.fetchall()"
      ],
      "metadata": {
        "colab": {
          "base_uri": "https://localhost:8080/"
        },
        "outputId": "f7b1dcef-bdbd-4124-c256-da271a9117d0",
        "id": "Tnbk1QUEshwZ"
      },
      "execution_count": null,
      "outputs": [
        {
          "output_type": "execute_result",
          "data": {
            "text/plain": [
              "[('v1', 'GRU', 'REC', '01/02/2024'),\n",
              " ('v2', 'VCP', 'SDU', '15/03/2024'),\n",
              " ('v3', 'REC', 'GRU', '20/06/2024')]"
            ]
          },
          "metadata": {},
          "execution_count": 27
        }
      ]
    },
    {
      "cell_type": "markdown",
      "source": [
        "# Desafios de casa\n",
        "\n",
        "A seguir, alguns exercicios serão propostos, usem as funções que aprenderam na aula 07 e 08 para resolver:"
      ],
      "metadata": {
        "id": "RjFN15JrYBdi"
      }
    },
    {
      "cell_type": "markdown",
      "source": [
        "## Desafio 1\n",
        "\n",
        "Crie uma nova tabela de itinerários com os três voos existente na tabela registro_voos."
      ],
      "metadata": {
        "id": "y70qfke5YfAP"
      }
    },
    {
      "cell_type": "code",
      "source": [
        "#A tabela Voo\n",
        "cur.execute(\"SELECT * FROM registro_voo\").fetchall()"
      ],
      "metadata": {
        "colab": {
          "base_uri": "https://localhost:8080/"
        },
        "id": "yBRvy2FQYeHj",
        "outputId": "7c20799c-886c-4cc1-dd3c-6505743b9819"
      },
      "execution_count": null,
      "outputs": [
        {
          "output_type": "execute_result",
          "data": {
            "text/plain": [
              "[('v1', 'GRU', 'REC', '01/02/2024'),\n",
              " ('v2', 'VCP', 'SDU', '15/03/2024'),\n",
              " ('v3', 'REC', 'GRU', '20/06/2024')]"
            ]
          },
          "metadata": {},
          "execution_count": 8
        }
      ]
    },
    {
      "cell_type": "markdown",
      "source": [
        "Sendo assim, crie a tabela registro_itinerarios com as seguintes colunas:\n",
        "\n",
        "\n",
        "*   id_voo (chave estrangeira)\n",
        "*   id_passageiro (chave estrangeira)\n",
        "*   id_refeicao (chave estrangeira)\n",
        "\n",
        "\n",
        "Pontos de atenção:\n",
        "\n",
        "\n",
        "*   Cada passageiro tem uma restrição alimentar, considere ela ao designar cada refeição a cada passageiro. (Comente como fez isso)\n",
        "\n",
        "\n",
        "\n",
        "\n",
        "\n",
        "Dica:\n",
        "\n",
        "Use a inserção de valores a partir de uma consulta para agilizar o trabalho:\n",
        "\n",
        "INSERT INTO nome_tabela_nova\n",
        "SELECT colunas\n",
        "FROM nome_tabela_consultada\n",
        "\n",
        "(O desafio extra do exercicio de aula possui uma tabela com os menus disponíveis para cada passageiro, podem usá-lo para ajudar a preencher)\n",
        "\n",
        "\n"
      ],
      "metadata": {
        "id": "RI1Z7wG6Y-AM"
      }
    },
    {
      "cell_type": "code",
      "source": [
        "### Desafio 01\n",
        "\n",
        "import sqlite3\n",
        "\n",
        "# Conectar ao banco de dados (ou criar um novo se não existir)\n",
        "conn = sqlite3.connect('example.db')\n",
        "cur = conn.cursor()\n",
        "\n",
        "# Criar a tabela registro_passageiros\n",
        "cur.execute(\"\"\"\n",
        "CREATE TABLE IF NOT EXISTS registro_passageiros (\n",
        "  id_passageiro TEXT NOT NULL PRIMARY KEY,\n",
        "  st_nome TEXT NOT NULL,\n",
        "  st_categoria TEXT NOT NULL,\n",
        "  st_sexo TEXT,\n",
        "  dt_nascimento TEXT NOT NULL,\n",
        "  st_nacionalidade TEXT NOT NULL,\n",
        "  st_estado_civil TEXT NOT NULL\n",
        ")\n",
        "\"\"\")\n",
        "\n",
        "# Criar a tabela restricao_alimentar\n",
        "cur.execute(\"\"\"\n",
        "CREATE TABLE IF NOT EXISTS restricao_alimentar (\n",
        "  id_passageiro TEXT NOT NULL,\n",
        "  st_alergia_alimentar TEXT,\n",
        "  st_restricao_alimentar TEXT,\n",
        "  FOREIGN KEY (id_passageiro)\n",
        "      REFERENCES registro_passageiros (id_passageiro)\n",
        "         ON DELETE CASCADE\n",
        "         ON UPDATE NO ACTION\n",
        ")\n",
        "\"\"\")\n",
        "\n",
        "# Criar a tabela registro_refeicoes\n",
        "cur.execute(\"\"\"\n",
        "CREATE TABLE IF NOT EXISTS registro_refeicoes(\n",
        "  id_refeicao TEXT NOT NULL PRIMARY KEY,\n",
        "  st_nome TEXT NOT NULL,\n",
        "  float_custo REAL NOT NULL\n",
        ")\n",
        "\"\"\")\n",
        "\n",
        "# Criar a tabela registro_alergicos\n",
        "cur.execute(\"\"\"\n",
        "CREATE TABLE IF NOT EXISTS registro_alergicos(\n",
        "  id_refeicao TEXT NOT NULL,\n",
        "  st_alergico TEXT NOT NULL,\n",
        "  FOREIGN KEY (id_refeicao)\n",
        "      REFERENCES registro_refeicoes (id_refeicao)\n",
        "         ON DELETE CASCADE\n",
        "         ON UPDATE NO ACTION\n",
        ")\n",
        "\"\"\")\n",
        "\n",
        "# Criar a tabela registro_voo\n",
        "cur.execute(\"\"\"\n",
        "CREATE TABLE IF NOT EXISTS registro_voo(\n",
        "  id_voo TEXT NOT NULL PRIMARY KEY,\n",
        "  st_origem TEXT NOT NULL,\n",
        "  st_destino TEXT NOT NULL,\n",
        "  dt_voo TEXT NOT NULL\n",
        ")\n",
        "\"\"\")\n",
        "\n",
        "# Inserir dados na tabela registro_voo\n",
        "cur.execute(\"\"\"\n",
        "INSERT OR IGNORE INTO registro_voo (id_voo, st_origem, st_destino, dt_voo)\n",
        "VALUES\n",
        "  ('v1', 'GRU', 'REC', '01/02/2024'),\n",
        "  ('v2', 'VCP', 'SDU', '15/03/2024'),\n",
        "  ('v3', 'REC', 'GRU', '20/06/2024')\n",
        "\"\"\")\n",
        "\n",
        "# Criar a tabela itinerarios\n",
        "cur.execute(\"\"\"\n",
        "CREATE TABLE IF NOT EXISTS itinerarios (\n",
        "  id_itinerario TEXT NOT NULL PRIMARY KEY,\n",
        "  id_voo TEXT NOT NULL,\n",
        "  st_origem TEXT NOT NULL,\n",
        "  st_destino TEXT NOT NULL,\n",
        "  dt_voo TEXT NOT NULL,\n",
        "  FOREIGN KEY (id_voo) REFERENCES registro_voo (id_voo)\n",
        "    ON DELETE CASCADE\n",
        "    ON UPDATE NO ACTION\n",
        ")\n",
        "\"\"\")\n",
        "\n",
        "# Inserir dados na tabela itinerarios com base na tabela registro_voo\n",
        "cur.execute(\"\"\"\n",
        "INSERT OR IGNORE INTO itinerarios (id_itinerario, id_voo, st_origem, st_destino, dt_voo)\n",
        "SELECT id_voo, id_voo, st_origem, st_destino, dt_voo\n",
        "FROM registro_voo\n",
        "\"\"\")\n",
        "\n",
        "# Criar a tabela restricao_alimentar e inserir dados\n",
        "cur.execute(\"\"\"\n",
        "INSERT OR IGNORE INTO restricao_alimentar (id_passageiro, st_alergia_alimentar) VALUES\n",
        "  ('p2','Lactose'),\n",
        "  ('p3','Lactose'),\n",
        "  ('p4','Frutos do Mar'),\n",
        "  ('p4','Castanhas'),\n",
        "  ('p7','Glutem'),\n",
        "  ('p7','Frutos do Mar')\n",
        "\"\"\")\n",
        "\n",
        "cur.execute(\"\"\"\n",
        "INSERT OR IGNORE INTO restricao_alimentar (id_passageiro, st_restricao_alimentar) VALUES\n",
        "  ('p1','Vegano'),\n",
        "  ('p8','Vegetariano')\n",
        "\"\"\")\n",
        "\n",
        "cur.execute(\"\"\"\n",
        "INSERT OR IGNORE INTO restricao_alimentar VALUES\n",
        "  ('p6','Castanhas','Vegetariano')\n",
        "\"\"\")\n",
        "\n",
        "# Comitar as alterações\n",
        "conn.commit()\n",
        "\n",
        "# Verificar os dados na tabela itinerarios\n",
        "res_itinerarios = cur.execute(\"SELECT * FROM itinerarios\")\n",
        "data_itinerarios = res_itinerarios.fetchall()\n",
        "\n",
        "print(\"Dados na tabela itinerarios:\")\n",
        "for row in data_itinerarios:\n",
        "    print(row)\n",
        "\n",
        "# Verificar os dados na tabela restricao_alimentar\n",
        "res_restricoes = cur.execute(\"SELECT * FROM restricao_alimentar\")\n",
        "data_restricoes = res_restricoes.fetchall()\n",
        "\n",
        "print(\"\\nDados na tabela restricao_alimentar:\")\n",
        "for row in data_restricoes:\n",
        "    print(f\"ID do Passageiro: {row[0]}, Alergia Alimentar: {row[1]}, Restrição Alimentar: {row[2]}\")\n",
        "\n",
        "# Fechar a conexão\n",
        "conn.close()\n",
        "\n",
        "### Explicação criação de ids itinerários:\n",
        "\n",
        "###id_itinerario: ID do itinerário (mesmo que o ID do voo).\n",
        "###id_voo: ID do voo associado.\n",
        "###st_origem: Origem do voo.\n",
        "####st_destino: Destino do voo.\n",
        "###dt_voo: Data do voo\n",
        "\n",
        "###Tabela itinerarios:\n",
        "###Chave Primária (PK)\n",
        "###id_itinerario: É a chave primária da tabela itinerarios.\n",
        "###Chaves Estrangeiras (FK)\n",
        "###id_voo: É uma chave estrangeira que faz referência à coluna id_voo na tabela registro_voo.\n",
        "\n",
        "### Explicação retorno retrição sobre iDs passageiros:\n",
        "### ID do passageiro.\n",
        "###st_alergia_alimentar: Alergia alimentar do passageiro (pode ser NULO se não houver).\n",
        "###st_restricao_alimentar: Restrição alimentar do passageiro (pode ser NULO se não houver).\n",
        "\n",
        "### restricao_alimentar\n",
        "###PK: Não definida explicitamente (pode ser considerada uma chave composta id_passageiro + outra coluna se necessário)\n",
        "###FK: id_passageiro (referencia registro_passageiros.id_passageiro)"
      ],
      "metadata": {
        "colab": {
          "base_uri": "https://localhost:8080/"
        },
        "collapsed": true,
        "id": "WXbqV-nV-96g",
        "outputId": "f88b2003-9cb1-4863-d992-3962f9055e0b"
      },
      "execution_count": null,
      "outputs": [
        {
          "output_type": "stream",
          "name": "stdout",
          "text": [
            "Dados na tabela itinerarios:\n",
            "('v1', 'v1', 'GRU', 'REC', '01/02/2024')\n",
            "('v2', 'v2', 'VCP', 'SDU', '15/03/2024')\n",
            "('v3', 'v3', 'REC', 'GRU', '20/06/2024')\n",
            "\n",
            "Dados na tabela restricao_alimentar:\n",
            "ID do Passageiro: p2, Alergia Alimentar: Lactose, Restrição Alimentar: None\n",
            "ID do Passageiro: p3, Alergia Alimentar: Lactose, Restrição Alimentar: None\n",
            "ID do Passageiro: p4, Alergia Alimentar: Frutos do Mar, Restrição Alimentar: None\n",
            "ID do Passageiro: p4, Alergia Alimentar: Castanhas, Restrição Alimentar: None\n",
            "ID do Passageiro: p7, Alergia Alimentar: Glutem, Restrição Alimentar: None\n",
            "ID do Passageiro: p7, Alergia Alimentar: Frutos do Mar, Restrição Alimentar: None\n",
            "ID do Passageiro: p1, Alergia Alimentar: None, Restrição Alimentar: Vegano\n",
            "ID do Passageiro: p8, Alergia Alimentar: None, Restrição Alimentar: Vegetariano\n",
            "ID do Passageiro: p6, Alergia Alimentar: Castanhas, Restrição Alimentar: Vegetariano\n"
          ]
        }
      ]
    },
    {
      "cell_type": "markdown",
      "source": [
        "## Desafio 2\n",
        "\n",
        "A precificação da SAMBA é pela categoria do cliente, e segue a seguinte regra:\n",
        "\n",
        "*   Silver - R$550.6\n",
        "\n",
        "*   Bronze - R$450.7\n",
        "\n",
        "*   Gold - R$350.2\n",
        "\n",
        "Adicione uma nova coluna na tabela registro_voos com o valor de cada passageiro em cada voo. Após isso, determine qual voo foi mais rentável.\n",
        "\n",
        "Ponto de atenção: Para determinar rentabilidade, devemos tirar os custos do lucro de venda. Considere como custo de cada voo R$300.0 mais os custos de refeição de cada passageiro daquele voo.\n",
        "\n",
        "Explique passo a passo como chegou nas respostas."
      ],
      "metadata": {
        "id": "Se5LWsBVavW_"
      }
    },
    {
      "cell_type": "code",
      "source": [
        "\n",
        "### Desafio 02\n",
        "\n",
        "import sqlite3\n",
        "\n",
        "# Conectar ao banco de dados (ou criar um novo se não existir)\n",
        "conn = sqlite3.connect('example.db')\n",
        "cur = conn.cursor()\n",
        "\n",
        "try:\n",
        "    # Criar a tabela registro_passageiros\n",
        "    cur.execute(\"\"\"\n",
        "    CREATE TABLE IF NOT EXISTS registro_passageiros (\n",
        "      id_passageiro TEXT NOT NULL PRIMARY KEY,\n",
        "      st_nome TEXT NOT NULL,\n",
        "      st_categoria TEXT NOT NULL,\n",
        "      st_sexo TEXT,\n",
        "      dt_nascimento TEXT NOT NULL,\n",
        "      st_nacionalidade TEXT NOT NULL,\n",
        "      st_estado_civil TEXT NOT NULL\n",
        "    )\n",
        "    \"\"\")\n",
        "\n",
        "    # Criar a tabela restricao_alimentar\n",
        "    cur.execute(\"\"\"\n",
        "    CREATE TABLE IF NOT EXISTS restricao_alimentar (\n",
        "      id_passageiro TEXT NOT NULL,\n",
        "      st_alergia_alimentar TEXT,\n",
        "      st_restricao_alimentar TEXT,\n",
        "      FOREIGN KEY (id_passageiro)\n",
        "          REFERENCES registro_passageiros (id_passageiro)\n",
        "             ON DELETE CASCADE\n",
        "             ON UPDATE NO ACTION\n",
        "    )\n",
        "    \"\"\")\n",
        "\n",
        "    # Criar a tabela registro_refeicoes\n",
        "    cur.execute(\"\"\"\n",
        "    CREATE TABLE IF NOT EXISTS registro_refeicoes(\n",
        "      id_refeicao TEXT NOT NULL PRIMARY KEY,\n",
        "      st_nome TEXT NOT NULL,\n",
        "      float_custo REAL NOT NULL\n",
        "    )\n",
        "    \"\"\")\n",
        "\n",
        "    # Criar a tabela registro_alergicos\n",
        "    cur.execute(\"\"\"\n",
        "    CREATE TABLE IF NOT EXISTS registro_alergicos(\n",
        "      id_refeicao TEXT NOT NULL,\n",
        "      st_alergico TEXT NOT NULL,\n",
        "      FOREIGN KEY (id_refeicao)\n",
        "          REFERENCES registro_refeicoes (id_refeicao)\n",
        "             ON DELETE CASCADE\n",
        "             ON UPDATE NO ACTION\n",
        "    )\n",
        "    \"\"\")\n",
        "\n",
        "    # Criar a tabela registro_voo\n",
        "    cur.execute(\"\"\"\n",
        "    CREATE TABLE IF NOT EXISTS registro_voo(\n",
        "      id_voo TEXT NOT NULL PRIMARY KEY,\n",
        "      st_origem TEXT NOT NULL,\n",
        "      st_destino TEXT NOT NULL,\n",
        "      dt_voo TEXT NOT NULL,\n",
        "      valor REAL\n",
        "    )\n",
        "    \"\"\")\n",
        "\n",
        "    # Inserir dados na tabela registro_voo\n",
        "    cur.execute(\"\"\"\n",
        "    INSERT OR IGNORE INTO registro_voo (id_voo, st_origem, st_destino, dt_voo, valor)\n",
        "    VALUES\n",
        "      ('v1', 'GRU', 'REC', '01/02/2024', 500.0),\n",
        "      ('v2', 'VCP', 'SDU', '15/03/2024', 600.0),\n",
        "      ('v3', 'REC', 'GRU', '20/06/2024', 550.0)\n",
        "    \"\"\")\n",
        "\n",
        "    # Criar a tabela itinerarios\n",
        "    cur.execute(\"\"\"\n",
        "    CREATE TABLE IF NOT EXISTS itinerarios (\n",
        "      id_itinerario TEXT NOT NULL PRIMARY KEY,\n",
        "      id_voo TEXT NOT NULL,\n",
        "      st_origem TEXT NOT NULL,\n",
        "      st_destino TEXT NOT NULL,\n",
        "      dt_voo TEXT NOT NULL,\n",
        "      FOREIGN KEY (id_voo) REFERENCES registro_voo (id_voo)\n",
        "        ON DELETE CASCADE\n",
        "        ON UPDATE NO ACTION\n",
        "    )\n",
        "    \"\"\")\n",
        "\n",
        "    # Inserir dados na tabela itinerarios com base na tabela registro_voo\n",
        "    cur.execute(\"\"\"\n",
        "    INSERT OR IGNORE INTO itinerarios (id_itinerario, id_voo, st_origem, st_destino, dt_voo)\n",
        "    SELECT id_voo, id_voo, st_origem, st_destino, dt_voo\n",
        "    FROM registro_voo\n",
        "    \"\"\")\n",
        "\n",
        "    # Inserir dados na tabela registro_refeicoes\n",
        "    cur.execute(\"\"\"\n",
        "    INSERT OR IGNORE INTO registro_refeicoes VALUES\n",
        "      ('r1', 'Frango com Legumes', 20),\n",
        "      ('r2', 'Picadinho de carne', 25),\n",
        "      ('r3', 'Salada com castanhas', 15),\n",
        "      ('r4', 'Risoto de Camarão', 30),\n",
        "      ('r5', 'Hamburguer Combo', 35),\n",
        "      ('r6', 'Hamburguer Vegano Combo', 30)\n",
        "    \"\"\")\n",
        "\n",
        "    # Criar a tabela menus_disponiveis\n",
        "    cur.execute(\"\"\"\n",
        "    CREATE TABLE IF NOT EXISTS menus_disponiveis (\n",
        "        id_passageiro TEXT NOT NULL,\n",
        "        id_refeicao TEXT NOT NULL,\n",
        "        FOREIGN KEY (id_passageiro) REFERENCES registro_passageiros (id_passageiro),\n",
        "        FOREIGN KEY (id_refeicao) REFERENCES registro_refeicoes (id_refeicao)\n",
        "    )\n",
        "    \"\"\")\n",
        "\n",
        "    # Criar a tabela registro_itinerarios\n",
        "    cur.execute(\"\"\"\n",
        "    CREATE TABLE IF NOT EXISTS registro_itinerarios (\n",
        "        id_voo TEXT NOT NULL,\n",
        "        id_passageiro TEXT NOT NULL,\n",
        "        id_refeicao TEXT NOT NULL,\n",
        "        FOREIGN KEY (id_voo) REFERENCES registro_voo (id_voo),\n",
        "        FOREIGN KEY (id_passageiro) REFERENCES registro_passageiros (id_passageiro),\n",
        "        FOREIGN KEY (id_refeicao) REFERENCES registro_refeicoes (id_refeicao)\n",
        "    )\n",
        "    \"\"\")\n",
        "\n",
        "    # Inserir dados na tabela registro_itinerarios considerando restrições alimentares\n",
        "    cur.execute(\"\"\"\n",
        "    INSERT INTO registro_itinerarios (id_voo, id_passageiro, id_refeicao)\n",
        "    SELECT\n",
        "        v.id_voo,\n",
        "        p.id_passageiro,\n",
        "        r.id_refeicao\n",
        "    FROM\n",
        "        registro_voo v\n",
        "        CROSS JOIN registro_passageiros p\n",
        "        CROSS JOIN registro_refeicoes r\n",
        "        LEFT JOIN restricao_alimentar ra ON p.id_passageiro = ra.id_passageiro\n",
        "        LEFT JOIN registro_alergicos ra2 ON r.id_refeicao = ra2.id_refeicao\n",
        "        LEFT JOIN menus_disponiveis md ON p.id_passageiro = md.id_passageiro AND r.id_refeicao = md.id_refeicao\n",
        "    WHERE\n",
        "        md.id_refeicao IS NOT NULL\n",
        "        AND (ra.st_alergia_alimentar IS NULL\n",
        "        OR ra2.st_alergico IS NULL\n",
        "        OR ra2.st_alergico NOT IN (ra.st_alergia_alimentar))\n",
        "    \"\"\")\n",
        "\n",
        "    # Criar base de cáluclo conseiderando voos/ valores.\n",
        "    # CRUZANDO dados com LEFT JOIN  registro_itinerários/ registro_refeições\n",
        "    cur.execute(\"\"\"\n",
        "    CREATE TEMP VIEW voo_calculos AS\n",
        "    SELECT\n",
        "        v.id_voo,\n",
        "        v.valor AS receita,\n",
        "        (300.0 + COALESCE(SUM(r.float_custo), 0)) AS custo_total,\n",
        "        (v.valor - (300.0 + COALESCE(SUM(r.float_custo), 0))) AS lucro\n",
        "    FROM registro_voo v\n",
        "    LEFT JOIN registro_itinerarios ri ON v.id_voo = ri.id_voo\n",
        "    LEFT JOIN registro_refeicoes r ON ri.id_refeicao = r.id_refeicao\n",
        "    GROUP BY v.id_voo, v.valor\n",
        "    \"\"\")\n",
        "\n",
        "    # Encontrar o voo mais rentável\n",
        "    res = cur.execute(\"\"\"\n",
        "    SELECT id_voo, receita, custo_total, lucro\n",
        "    FROM voo_calculos\n",
        "    ORDER BY lucro DESC\n",
        "    LIMIT 1\n",
        "    \"\"\")\n",
        "\n",
        "    # Exibir o voo mais rentável\n",
        "    data = res.fetchall()\n",
        "    if data:\n",
        "        print(\"O voo mais rentável é:\")\n",
        "        for row in data:\n",
        "            print(f\"ID do voo: {row[0]}, Receita: R${row[1]}, Custo Total: R${row[2]}, Lucro: R${row[3]}\")\n",
        "    else:\n",
        "        print(\"Nenhum dado encontrado para calcular rentabilidade.\")\n",
        "\n",
        "finally:\n",
        "    # Fechar a conexão\n",
        "    conn.close()\n",
        "\n",
        "###Cálculo da Rentabilidade:\n",
        "### lucro de cada voo subtraindo e o custo total da receita= Lucro = Receita Total - Custo Total\n",
        "###Exibição dos Resultados:\n",
        "\n",
        "##O voo mais rentável, incluindo ID do voo, receita, custo total e lucro."
      ],
      "metadata": {
        "colab": {
          "base_uri": "https://localhost:8080/"
        },
        "id": "HnWn-7Qf4z9C",
        "outputId": "7a4f03f1-a1f7-4529-def1-79659c9691c9"
      },
      "execution_count": null,
      "outputs": [
        {
          "output_type": "stream",
          "name": "stdout",
          "text": [
            "O voo mais rentável é:\n",
            "ID do voo: v2, Receita: R$600.0, Custo Total: R$300.0, Lucro: R$300.0\n"
          ]
        }
      ]
    }
  ]
}